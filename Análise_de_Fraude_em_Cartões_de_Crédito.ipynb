{
  "cells": [
    {
      "cell_type": "markdown",
      "metadata": {
        "id": "view-in-github",
        "colab_type": "text"
      },
      "source": [
        "<a href=\"https://colab.research.google.com/github/marconebhering/data-science/blob/main/An%C3%A1lise_de_Fraude_em_Cart%C3%B5es_de_Cr%C3%A9dito.ipynb\" target=\"_parent\"><img src=\"https://colab.research.google.com/assets/colab-badge.svg\" alt=\"Open In Colab\"/></a>"
      ]
    },
    {
      "cell_type": "markdown",
      "metadata": {
        "id": "iOtullnEaPKO"
      },
      "source": [
        "# **Introdução**\n",
        "\n",
        "Atualmente, as grandes organizações perdem cerca de 5% de sua receita anual para fraudes. Portanto, há um enorme interesse em detectar e prevenir atividades fraudulentas.\n",
        "\n",
        "Com o avanço da tecnologia, hoje as grandes empresas optam por combater fraude utilizando dados. Mais especificamente, aplicando algoritmos de aprendizado supervisionado para detectar comportamentos fraudulentos semelhantes aos anteriores, bem como métodos de aprendizado não supervisionado para descobrir novos padrões de atividades fraudulentas."
      ]
    },
    {
      "cell_type": "markdown",
      "metadata": {
        "id": "JBUU-DcYb2pv"
      },
      "source": [
        "# Caso\n",
        "\n",
        "Uma nova empresa de cartão de crédito acaba de entrar no mercado no oeste dos Estados Unidos. A empresa está se promovendo como um dos cartões de crédito mais seguros para usar. \n",
        "\n",
        "Fomos contratados como cientista de dados responsável por identificar casos de fraude. O executivo que nos contratou, forneceu dados sobre transações com cartão de crédito, incluindo se cada transação era fraudulenta ou não.\n",
        "\n",
        "O executivo quer saber com que precisão podemos prever fraudes usando esses dados. Ele enfatizou que o **modelo deve ser cauteloso: não é um grande problema sinalizar transações como fraudulentas quando não são apenas para serem seguras.** "
      ]
    },
    {
      "cell_type": "markdown",
      "metadata": {
        "id": "JktCcxQ0b-9S"
      },
      "source": [
        "#**Dataset**\n",
        "\n",
        "O conjunto de dados analisado, consiste em transações de cartão de crédito no oeste dos Estados Unidos. \n",
        "\n",
        "Inclui informações sobre cada transação, incluindo detalhes do cliente, o comerciante e a categoria da compra e se a transação foi ou não uma fraude."
      ]
    },
    {
      "cell_type": "markdown",
      "metadata": {
        "id": "cSXNahTocCM1"
      },
      "source": [
        "## Dicionário de Variáveis"
      ]
    },
    {
      "cell_type": "markdown",
      "metadata": {
        "id": "qGWXmNUodzBP"
      },
      "source": [
        "| Variável | Descrição |\n",
        "| ---- | ---- |\n",
        "| transdatetrans_time | Data e Hora da Transação                    |\n",
        "| merchant            | Nome do Comerciante                         |\n",
        "| category            | Categoria do Comerciante                    |\n",
        "| amt                 | Valor da Transação                          |\n",
        "| city                | Cidade do Titular do Cartão de Crédito      |\n",
        "| state               | Estado do Titular do Cartão de Crédito      |\n",
        "| lat                 | Latitude do Local de Compra                 |\n",
        "| long                | Longitude do Local de Compra                |\n",
        "| city_pop            | População da Cidade do Titular do Cartão    |\n",
        "| job                 | Cargo do Titular do Cartão de Crédito       |\n",
        "| dob                 | Data de Nascimento do Titular do Cartão     |\n",
        "| trans_num           | Número da Transação                         |\n",
        "| merch_lat           | Latitude do Local do Comerciante            |\n",
        "| merch_long          | Longitude do Local do Comerciante           |\n",
        "| is_fraud            | Se a Transação é Fraude (1) ou Não (0) |\n"
      ]
    },
    {
      "cell_type": "markdown",
      "metadata": {
        "id": "hgUFhK9w0LXl"
      },
      "source": [
        "##Importação das Bibliotecas"
      ]
    },
    {
      "cell_type": "code",
      "execution_count": null,
      "metadata": {
        "id": "IkpyzFRdlDFF"
      },
      "outputs": [],
      "source": [
        "%%capture\n",
        "!pip install imbalanced-learn\n",
        "import pandas as pd\n",
        "import seaborn as sns\n",
        "import matplotlib.pyplot as plt\n",
        "import numpy as np\n",
        "from datetime import date\n",
        "import plotly.express as px\n",
        "from geopy import distance\n",
        "from sklearn.model_selection import train_test_split\n",
        "from sklearn.preprocessing import StandardScaler\n",
        "from sklearn.dummy import DummyClassifier\n",
        "from sklearn.metrics import recall_score, accuracy_score, precision_score, confusion_matrix\n",
        "from sklearn.ensemble import RandomForestClassifier\n",
        "from sklearn.metrics import ConfusionMatrixDisplay\n",
        "from imblearn.over_sampling import RandomOverSampler"
      ]
    },
    {
      "cell_type": "markdown",
      "metadata": {
        "id": "qrQt7Wbz0U50"
      },
      "source": [
        "##Leitura do Dataset"
      ]
    },
    {
      "cell_type": "code",
      "execution_count": null,
      "metadata": {
        "colab": {
          "base_uri": "https://localhost:8080/",
          "height": 461
        },
        "id": "jbmmQXfUZT-8",
        "outputId": "070c7b31-4490-4c37-a11e-eddebf6033bb"
      },
      "outputs": [
        {
          "output_type": "execute_result",
          "data": {
            "text/plain": [
              "  trans_date_trans_time                   merchant       category     amt  \\\n",
              "0   2019-01-01 00:00:44  Heller, Gutmann and Zieme    grocery_pos  107.23   \n",
              "1   2019-01-01 00:00:51             Lind-Buckridge  entertainment  220.11   \n",
              "2   2019-01-01 00:07:27                  Kiehn Inc    grocery_pos   96.29   \n",
              "3   2019-01-01 00:09:03                Beier-Hyatt   shopping_pos    7.77   \n",
              "4   2019-01-01 00:21:32                 Bruen-Yost       misc_pos    6.85   \n",
              "\n",
              "                       city state      lat      long  city_pop  \\\n",
              "0                    Orient    WA  48.8878 -118.2105       149   \n",
              "1                Malad City    ID  42.1808 -112.2620      4154   \n",
              "2                   Grenada    CA  41.6125 -122.5258       589   \n",
              "3  High Rolls Mountain Park    NM  32.9396 -105.8189       899   \n",
              "4                   Freedom    WY  43.0172 -111.0292       471   \n",
              "\n",
              "                                 job        dob  \\\n",
              "0  Special educational needs teacher 1978-06-21   \n",
              "1        Nature conservation officer 1962-01-19   \n",
              "2                    Systems analyst 1945-12-21   \n",
              "3                    Naval architect 1967-08-30   \n",
              "4          Education officer, museum 1967-08-02   \n",
              "\n",
              "                          trans_num  merch_lat  merch_long  is_fraud  \n",
              "0  1f76529f8574734946361c461b024d99  49.159047 -118.186462         0  \n",
              "1  a1a22d70485983eac12b5b88dad1cf95  43.150704 -112.154481         0  \n",
              "2  413636e759663f264aae1819a4d4f231  41.657520 -122.230347         0  \n",
              "3  8a6293af5ed278dea14448ded2685fea  32.863258 -106.520205         0  \n",
              "4  f3c43d336e92a44fc2fb67058d5949e3  43.753735 -111.454923         0  "
            ],
            "text/html": [
              "\n",
              "  <div id=\"df-b170d99f-ed30-47ec-802f-a705c1d3e3d9\">\n",
              "    <div class=\"colab-df-container\">\n",
              "      <div>\n",
              "<style scoped>\n",
              "    .dataframe tbody tr th:only-of-type {\n",
              "        vertical-align: middle;\n",
              "    }\n",
              "\n",
              "    .dataframe tbody tr th {\n",
              "        vertical-align: top;\n",
              "    }\n",
              "\n",
              "    .dataframe thead th {\n",
              "        text-align: right;\n",
              "    }\n",
              "</style>\n",
              "<table border=\"1\" class=\"dataframe\">\n",
              "  <thead>\n",
              "    <tr style=\"text-align: right;\">\n",
              "      <th></th>\n",
              "      <th>trans_date_trans_time</th>\n",
              "      <th>merchant</th>\n",
              "      <th>category</th>\n",
              "      <th>amt</th>\n",
              "      <th>city</th>\n",
              "      <th>state</th>\n",
              "      <th>lat</th>\n",
              "      <th>long</th>\n",
              "      <th>city_pop</th>\n",
              "      <th>job</th>\n",
              "      <th>dob</th>\n",
              "      <th>trans_num</th>\n",
              "      <th>merch_lat</th>\n",
              "      <th>merch_long</th>\n",
              "      <th>is_fraud</th>\n",
              "    </tr>\n",
              "  </thead>\n",
              "  <tbody>\n",
              "    <tr>\n",
              "      <th>0</th>\n",
              "      <td>2019-01-01 00:00:44</td>\n",
              "      <td>Heller, Gutmann and Zieme</td>\n",
              "      <td>grocery_pos</td>\n",
              "      <td>107.23</td>\n",
              "      <td>Orient</td>\n",
              "      <td>WA</td>\n",
              "      <td>48.8878</td>\n",
              "      <td>-118.2105</td>\n",
              "      <td>149</td>\n",
              "      <td>Special educational needs teacher</td>\n",
              "      <td>1978-06-21</td>\n",
              "      <td>1f76529f8574734946361c461b024d99</td>\n",
              "      <td>49.159047</td>\n",
              "      <td>-118.186462</td>\n",
              "      <td>0</td>\n",
              "    </tr>\n",
              "    <tr>\n",
              "      <th>1</th>\n",
              "      <td>2019-01-01 00:00:51</td>\n",
              "      <td>Lind-Buckridge</td>\n",
              "      <td>entertainment</td>\n",
              "      <td>220.11</td>\n",
              "      <td>Malad City</td>\n",
              "      <td>ID</td>\n",
              "      <td>42.1808</td>\n",
              "      <td>-112.2620</td>\n",
              "      <td>4154</td>\n",
              "      <td>Nature conservation officer</td>\n",
              "      <td>1962-01-19</td>\n",
              "      <td>a1a22d70485983eac12b5b88dad1cf95</td>\n",
              "      <td>43.150704</td>\n",
              "      <td>-112.154481</td>\n",
              "      <td>0</td>\n",
              "    </tr>\n",
              "    <tr>\n",
              "      <th>2</th>\n",
              "      <td>2019-01-01 00:07:27</td>\n",
              "      <td>Kiehn Inc</td>\n",
              "      <td>grocery_pos</td>\n",
              "      <td>96.29</td>\n",
              "      <td>Grenada</td>\n",
              "      <td>CA</td>\n",
              "      <td>41.6125</td>\n",
              "      <td>-122.5258</td>\n",
              "      <td>589</td>\n",
              "      <td>Systems analyst</td>\n",
              "      <td>1945-12-21</td>\n",
              "      <td>413636e759663f264aae1819a4d4f231</td>\n",
              "      <td>41.657520</td>\n",
              "      <td>-122.230347</td>\n",
              "      <td>0</td>\n",
              "    </tr>\n",
              "    <tr>\n",
              "      <th>3</th>\n",
              "      <td>2019-01-01 00:09:03</td>\n",
              "      <td>Beier-Hyatt</td>\n",
              "      <td>shopping_pos</td>\n",
              "      <td>7.77</td>\n",
              "      <td>High Rolls Mountain Park</td>\n",
              "      <td>NM</td>\n",
              "      <td>32.9396</td>\n",
              "      <td>-105.8189</td>\n",
              "      <td>899</td>\n",
              "      <td>Naval architect</td>\n",
              "      <td>1967-08-30</td>\n",
              "      <td>8a6293af5ed278dea14448ded2685fea</td>\n",
              "      <td>32.863258</td>\n",
              "      <td>-106.520205</td>\n",
              "      <td>0</td>\n",
              "    </tr>\n",
              "    <tr>\n",
              "      <th>4</th>\n",
              "      <td>2019-01-01 00:21:32</td>\n",
              "      <td>Bruen-Yost</td>\n",
              "      <td>misc_pos</td>\n",
              "      <td>6.85</td>\n",
              "      <td>Freedom</td>\n",
              "      <td>WY</td>\n",
              "      <td>43.0172</td>\n",
              "      <td>-111.0292</td>\n",
              "      <td>471</td>\n",
              "      <td>Education officer, museum</td>\n",
              "      <td>1967-08-02</td>\n",
              "      <td>f3c43d336e92a44fc2fb67058d5949e3</td>\n",
              "      <td>43.753735</td>\n",
              "      <td>-111.454923</td>\n",
              "      <td>0</td>\n",
              "    </tr>\n",
              "  </tbody>\n",
              "</table>\n",
              "</div>\n",
              "      <button class=\"colab-df-convert\" onclick=\"convertToInteractive('df-b170d99f-ed30-47ec-802f-a705c1d3e3d9')\"\n",
              "              title=\"Convert this dataframe to an interactive table.\"\n",
              "              style=\"display:none;\">\n",
              "        \n",
              "  <svg xmlns=\"http://www.w3.org/2000/svg\" height=\"24px\"viewBox=\"0 0 24 24\"\n",
              "       width=\"24px\">\n",
              "    <path d=\"M0 0h24v24H0V0z\" fill=\"none\"/>\n",
              "    <path d=\"M18.56 5.44l.94 2.06.94-2.06 2.06-.94-2.06-.94-.94-2.06-.94 2.06-2.06.94zm-11 1L8.5 8.5l.94-2.06 2.06-.94-2.06-.94L8.5 2.5l-.94 2.06-2.06.94zm10 10l.94 2.06.94-2.06 2.06-.94-2.06-.94-.94-2.06-.94 2.06-2.06.94z\"/><path d=\"M17.41 7.96l-1.37-1.37c-.4-.4-.92-.59-1.43-.59-.52 0-1.04.2-1.43.59L10.3 9.45l-7.72 7.72c-.78.78-.78 2.05 0 2.83L4 21.41c.39.39.9.59 1.41.59.51 0 1.02-.2 1.41-.59l7.78-7.78 2.81-2.81c.8-.78.8-2.07 0-2.86zM5.41 20L4 18.59l7.72-7.72 1.47 1.35L5.41 20z\"/>\n",
              "  </svg>\n",
              "      </button>\n",
              "      \n",
              "  <style>\n",
              "    .colab-df-container {\n",
              "      display:flex;\n",
              "      flex-wrap:wrap;\n",
              "      gap: 12px;\n",
              "    }\n",
              "\n",
              "    .colab-df-convert {\n",
              "      background-color: #E8F0FE;\n",
              "      border: none;\n",
              "      border-radius: 50%;\n",
              "      cursor: pointer;\n",
              "      display: none;\n",
              "      fill: #1967D2;\n",
              "      height: 32px;\n",
              "      padding: 0 0 0 0;\n",
              "      width: 32px;\n",
              "    }\n",
              "\n",
              "    .colab-df-convert:hover {\n",
              "      background-color: #E2EBFA;\n",
              "      box-shadow: 0px 1px 2px rgba(60, 64, 67, 0.3), 0px 1px 3px 1px rgba(60, 64, 67, 0.15);\n",
              "      fill: #174EA6;\n",
              "    }\n",
              "\n",
              "    [theme=dark] .colab-df-convert {\n",
              "      background-color: #3B4455;\n",
              "      fill: #D2E3FC;\n",
              "    }\n",
              "\n",
              "    [theme=dark] .colab-df-convert:hover {\n",
              "      background-color: #434B5C;\n",
              "      box-shadow: 0px 1px 3px 1px rgba(0, 0, 0, 0.15);\n",
              "      filter: drop-shadow(0px 1px 2px rgba(0, 0, 0, 0.3));\n",
              "      fill: #FFFFFF;\n",
              "    }\n",
              "  </style>\n",
              "\n",
              "      <script>\n",
              "        const buttonEl =\n",
              "          document.querySelector('#df-b170d99f-ed30-47ec-802f-a705c1d3e3d9 button.colab-df-convert');\n",
              "        buttonEl.style.display =\n",
              "          google.colab.kernel.accessAllowed ? 'block' : 'none';\n",
              "\n",
              "        async function convertToInteractive(key) {\n",
              "          const element = document.querySelector('#df-b170d99f-ed30-47ec-802f-a705c1d3e3d9');\n",
              "          const dataTable =\n",
              "            await google.colab.kernel.invokeFunction('convertToInteractive',\n",
              "                                                     [key], {});\n",
              "          if (!dataTable) return;\n",
              "\n",
              "          const docLinkHtml = 'Like what you see? Visit the ' +\n",
              "            '<a target=\"_blank\" href=https://colab.research.google.com/notebooks/data_table.ipynb>data table notebook</a>'\n",
              "            + ' to learn more about interactive tables.';\n",
              "          element.innerHTML = '';\n",
              "          dataTable['output_type'] = 'display_data';\n",
              "          await google.colab.output.renderOutput(dataTable, element);\n",
              "          const docLink = document.createElement('div');\n",
              "          docLink.innerHTML = docLinkHtml;\n",
              "          element.appendChild(docLink);\n",
              "        }\n",
              "      </script>\n",
              "    </div>\n",
              "  </div>\n",
              "  "
            ]
          },
          "metadata": {},
          "execution_count": 2
        }
      ],
      "source": [
        "df = pd.read_csv('credit_card_fraud.csv', parse_dates = ['trans_date_trans_time', 'dob'])\n",
        "df.head()"
      ]
    },
    {
      "cell_type": "markdown",
      "metadata": {
        "id": "Vlo5U_1Yy4Gp"
      },
      "source": [
        "##Tamanho da Base"
      ]
    },
    {
      "cell_type": "code",
      "execution_count": null,
      "metadata": {
        "colab": {
          "base_uri": "https://localhost:8080/"
        },
        "id": "kiSgYT8c3pI8",
        "outputId": "8e631b98-a601-4dfe-e388-dd0c7eea4418"
      },
      "outputs": [
        {
          "output_type": "stream",
          "name": "stdout",
          "text": [
            "O Dataset possui 15 variáveis e 339607 registros.\n"
          ]
        }
      ],
      "source": [
        "print('O Dataset possui', df.shape[1], 'variáveis e', df.shape[0], 'registros.')"
      ]
    },
    {
      "cell_type": "markdown",
      "metadata": {
        "id": "G2U1ekG2Dp6c"
      },
      "source": [
        "# **Análise Exploratória**"
      ]
    },
    {
      "cell_type": "markdown",
      "source": [
        "Antes de fazer qualquer suposição, é necessário prosseguir com uma análise exploratória, para buscar compreender melhor os dados, detectando alguns padrões, desvios e relações entre as variáveis."
      ],
      "metadata": {
        "id": "lNy77W1jz3mp"
      }
    },
    {
      "cell_type": "markdown",
      "metadata": {
        "id": "w9lgghkOztqn"
      },
      "source": [
        "##Valores Ausentes"
      ]
    },
    {
      "cell_type": "markdown",
      "source": [
        "A verificação de valores ausentes é fundamental, uma vez que algoritmos de aprendizado de máquina não são capazes de lidar com conjuntos de dados com dados faltantes.\n",
        "\n",
        "Além disso, valores ausentes podem revelar algum padrão decorrente de anomalias na obtenção dos dados."
      ],
      "metadata": {
        "id": "xFiCdhKu0OYo"
      }
    },
    {
      "cell_type": "code",
      "execution_count": null,
      "metadata": {
        "colab": {
          "base_uri": "https://localhost:8080/"
        },
        "id": "3sCrW203ztQt",
        "outputId": "82be5e8b-57ed-460f-d527-8f84d191fe9f"
      },
      "outputs": [
        {
          "output_type": "stream",
          "name": "stdout",
          "text": [
            "<class 'pandas.core.frame.DataFrame'>\n",
            "RangeIndex: 339607 entries, 0 to 339606\n",
            "Data columns (total 15 columns):\n",
            " #   Column                 Non-Null Count   Dtype         \n",
            "---  ------                 --------------   -----         \n",
            " 0   trans_date_trans_time  339607 non-null  datetime64[ns]\n",
            " 1   merchant               339607 non-null  object        \n",
            " 2   category               339607 non-null  object        \n",
            " 3   amt                    339607 non-null  float64       \n",
            " 4   city                   339607 non-null  object        \n",
            " 5   state                  339607 non-null  object        \n",
            " 6   lat                    339607 non-null  float64       \n",
            " 7   long                   339607 non-null  float64       \n",
            " 8   city_pop               339607 non-null  int64         \n",
            " 9   job                    339607 non-null  object        \n",
            " 10  dob                    339607 non-null  datetime64[ns]\n",
            " 11  trans_num              339607 non-null  object        \n",
            " 12  merch_lat              339607 non-null  float64       \n",
            " 13  merch_long             339607 non-null  float64       \n",
            " 14  is_fraud               339607 non-null  int64         \n",
            "dtypes: datetime64[ns](2), float64(5), int64(2), object(6)\n",
            "memory usage: 38.9+ MB\n"
          ]
        }
      ],
      "source": [
        "df.info()"
      ]
    },
    {
      "cell_type": "markdown",
      "metadata": {
        "id": "-R2vyN3t0c-U"
      },
      "source": [
        "No dataset não há valores faltantes em nenhuma das colunas."
      ]
    },
    {
      "cell_type": "markdown",
      "metadata": {
        "id": "QDkm-HXk02aY"
      },
      "source": [
        "## Distribuição da variável alvo"
      ]
    },
    {
      "cell_type": "code",
      "execution_count": null,
      "metadata": {
        "colab": {
          "base_uri": "https://localhost:8080/",
          "height": 281
        },
        "id": "s1aU4ifO06iJ",
        "outputId": "95fc502b-04c4-4ea2-f7f8-d9ca24ed2892"
      },
      "outputs": [
        {
          "output_type": "display_data",
          "data": {
            "text/plain": [
              "<Figure size 432x288 with 1 Axes>"
            ],
            "image/png": "[encoded data removed]"
          },
          "metadata": {
            "needs_background": "light"
          }
        }
      ],
      "source": [
        "sns.countplot(data = df, x = 'is_fraud');"
      ]
    },
    {
      "cell_type": "markdown",
      "metadata": {
        "id": "Nc_38ikR1Bkt"
      },
      "source": [
        "De acordo com o gráfico acima, fica claro que estamos lidando com um problema de dados desbalanceados, ou seja, a variável alvo tem poucos casos registrados como fraude em relação ao total de observações."
      ]
    },
    {
      "cell_type": "markdown",
      "source": [
        "## Quais tipos de compra são mais propensas a fraudes?"
      ],
      "metadata": {
        "id": "8Re-aZ4lxH4U"
      }
    },
    {
      "cell_type": "markdown",
      "metadata": {
        "id": "YtEkOorED1QF"
      },
      "source": [
        "###Categoria"
      ]
    },
    {
      "cell_type": "code",
      "execution_count": null,
      "metadata": {
        "colab": {
          "base_uri": "https://localhost:8080/",
          "height": 297
        },
        "id": "kQ_Ika894qCb",
        "outputId": "22f3546c-ba88-4f14-f570-e6bb6ff229fa"
      },
      "outputs": [
        {
          "output_type": "display_data",
          "data": {
            "text/plain": [
              "<Figure size 432x288 with 1 Axes>"
            ],
            "image/png": "[encoded data removed]"
          },
          "metadata": {
            "needs_background": "light"
          }
        }
      ],
      "source": [
        "c = df.groupby(['category'])['is_fraud'].mean()\n",
        "c.sort_values(ascending = False, inplace = True)\n",
        "c = sns.barplot(y = c.index[0:5], x = c.iloc[0:5])\n",
        "c.set_xlabel('Índice de Fraude')\n",
        "c.set_title('Top 5 Categorias com Maior Índice de Fraude');"
      ]
    },
    {
      "cell_type": "markdown",
      "source": [
        "Compras feitas nas categorias `shopping_net`, `grocery_pos` e `misc_net` são mais propensas a fraudes."
      ],
      "metadata": {
        "id": "Ll-AegtKx75g"
      }
    },
    {
      "cell_type": "markdown",
      "metadata": {
        "id": "rbN2nmZKD37V"
      },
      "source": [
        "###Valor da Transação"
      ]
    },
    {
      "cell_type": "code",
      "execution_count": null,
      "metadata": {
        "colab": {
          "base_uri": "https://localhost:8080/",
          "height": 279
        },
        "id": "Ta7AMIg7m3-x",
        "outputId": "3186bb7e-e26e-4d46-fb0f-4ca61409378b"
      },
      "outputs": [
        {
          "output_type": "display_data",
          "data": {
            "text/plain": [
              "<Figure size 864x288 with 1 Axes>"
            ],
            "image/png": "[encoded data removed]"
          },
          "metadata": {
            "needs_background": "light"
          }
        }
      ],
      "source": [
        "plt.figure(figsize = (12,4))\n",
        "a = sns.boxplot(data = df[df['amt']<1500], y = 'is_fraud', x = 'amt', orient = 'h')\n",
        "a.set_xlabel('Valor da Transação');"
      ]
    },
    {
      "cell_type": "markdown",
      "metadata": {
        "id": "FRX7dWq87Llm"
      },
      "source": [
        "Transações de valores mais altos são mais propensas a fraudes."
      ]
    },
    {
      "cell_type": "markdown",
      "metadata": {
        "id": "YRbcikgGEQz3"
      },
      "source": [
        "###Estado"
      ]
    },
    {
      "cell_type": "code",
      "execution_count": null,
      "metadata": {
        "colab": {
          "base_uri": "https://localhost:8080/",
          "height": 297
        },
        "id": "FsXHJUES_iAA",
        "outputId": "e95e3e3c-f68a-49f7-86fa-c535ca7ae63c"
      },
      "outputs": [
        {
          "output_type": "display_data",
          "data": {
            "text/plain": [
              "<Figure size 432x288 with 1 Axes>"
            ],
            "image/png": "[encoded data removed]"
          },
          "metadata": {
            "needs_background": "light"
          }
        }
      ],
      "source": [
        "e = df.groupby(['state'])['is_fraud'].mean()\n",
        "e.sort_values(ascending = False, inplace = True)\n",
        "e = sns.barplot(x = e.index[0:5], y = e.iloc[0:5])\n",
        "e.set_ylabel('Índice de Fraude')\n",
        "e.set_title('Top 5 Estados com Maior Índice de Fraude');"
      ]
    },
    {
      "cell_type": "markdown",
      "source": [
        "Compras feitas no estado do Alaska (AK), particularmente, são mais propensas a fraudes."
      ],
      "metadata": {
        "id": "qLEGczBKyRuC"
      }
    },
    {
      "cell_type": "markdown",
      "metadata": {
        "id": "CPoQEDl93DDV"
      },
      "source": [
        "# **Pré-Processamento**"
      ]
    },
    {
      "cell_type": "markdown",
      "source": [
        "O pré-processamento é um conjunto de atividades que envolvem preparação, organização e estruturação dos dados. Trata-se de uma etapa fundamental que precede a realização de análises e predições.\n",
        "\n",
        "Essa etapa é de grande importância, pois será determinante para a qualidade final dos dados que serão analisados. Ela pode, inclusive, impactar no modelo de previsão, gerado a partir dos dados."
      ],
      "metadata": {
        "id": "nk6ui8Dz1nxO"
      }
    },
    {
      "cell_type": "markdown",
      "metadata": {
        "id": "i6d2bPiHfjOA"
      },
      "source": [
        "## *Feature Engineering*"
      ]
    },
    {
      "cell_type": "markdown",
      "source": [
        "A engenharia de recursos, ou *feature engineering* é o processo de selecionar, manipular e transformar dados brutos em recursos que podem ser usados ​​no aprendizado supervisionado.\n",
        "\n",
        "É uma técnica que aproveita os dados para criar novas variáveis ​​que não estão no conjunto de treinamento, com o objetivo de simplificar e acelerar as transformações de dados e, ao mesmo tempo, aprimorar a precisão do modelo"
      ],
      "metadata": {
        "id": "Yu9xdDXG18zJ"
      }
    },
    {
      "cell_type": "markdown",
      "metadata": {
        "id": "fn0kyE1xf_uG"
      },
      "source": [
        "### Transformar Data de Nascimento em Idade"
      ]
    },
    {
      "cell_type": "code",
      "execution_count": null,
      "metadata": {
        "id": "52WvQOoO_3Xz"
      },
      "outputs": [],
      "source": [
        "def age(date_of_birth):\n",
        "    today = date.today()\n",
        "    return (\n",
        "        date.today().year\n",
        "        - date_of_birth.year\n",
        "        - ((today.month, today.day) < (date_of_birth.month, date_of_birth.day))\n",
        "    )\n",
        "\n",
        "df['age'] = df['dob'].apply(age)"
      ]
    },
    {
      "cell_type": "markdown",
      "metadata": {
        "id": "GYLL31BGczEY"
      },
      "source": [
        "### Distância do Comerciante"
      ]
    },
    {
      "cell_type": "code",
      "execution_count": null,
      "metadata": {
        "id": "llAntaUbdCov"
      },
      "outputs": [],
      "source": [
        "calculate_distance = lambda x: distance.geodesic(\n",
        "    (x['lat'], x['long']), (x['merch_lat'], x['merch_long'])\n",
        "    ).km\n",
        "\n",
        "df['distance_from_merchant'] = df.apply(calculate_distance, axis=1)"
      ]
    },
    {
      "cell_type": "markdown",
      "metadata": {
        "id": "425sUZrwgHq9"
      },
      "source": [
        "### Data e Hora da Transação"
      ]
    },
    {
      "cell_type": "code",
      "execution_count": null,
      "metadata": {
        "id": "gW-hNLvQgRyV"
      },
      "outputs": [],
      "source": [
        "df['hour'] = df['trans_date_trans_time'].dt.hour\n",
        "df['day'] = df['trans_date_trans_time'].dt.day\n",
        "df['month'] = df['trans_date_trans_time'].dt.month"
      ]
    },
    {
      "cell_type": "markdown",
      "metadata": {
        "id": "6VjRm5mVhmDD"
      },
      "source": [
        "### Histórico do Comerciante, Categoria e Estado"
      ]
    },
    {
      "cell_type": "code",
      "execution_count": null,
      "metadata": {
        "id": "upUqsSlzhpDF",
        "colab": {
          "base_uri": "https://localhost:8080/",
          "height": 201
        },
        "outputId": "752e50b2-0cc7-449a-f39c-11ca6a15e045"
      },
      "outputs": [
        {
          "output_type": "error",
          "ename": "NameError",
          "evalue": "ignored",
          "traceback": [
            "\u001b[0;31m---------------------------------------------------------------------------\u001b[0m",
            "\u001b[0;31mNameError\u001b[0m                                 Traceback (most recent call last)",
            "\u001b[0;32m<ipython-input-1-d3ce57455276>\u001b[0m in \u001b[0;36m<module>\u001b[0;34m\u001b[0m\n\u001b[0;32m----> 1\u001b[0;31m \u001b[0mdf\u001b[0m\u001b[0;34m[\u001b[0m\u001b[0;34m'merch_fraud_prop'\u001b[0m\u001b[0;34m]\u001b[0m \u001b[0;34m=\u001b[0m \u001b[0mdf\u001b[0m\u001b[0;34m.\u001b[0m\u001b[0mgroupby\u001b[0m\u001b[0;34m(\u001b[0m\u001b[0;34m'merchant'\u001b[0m\u001b[0;34m)\u001b[0m\u001b[0;34m[\u001b[0m\u001b[0;34m'is_fraud'\u001b[0m\u001b[0;34m]\u001b[0m\u001b[0;34m.\u001b[0m\u001b[0mtransform\u001b[0m\u001b[0;34m(\u001b[0m\u001b[0;34m'mean'\u001b[0m\u001b[0;34m)\u001b[0m\u001b[0;34m\u001b[0m\u001b[0;34m\u001b[0m\u001b[0m\n\u001b[0m\u001b[1;32m      2\u001b[0m \u001b[0mdf\u001b[0m\u001b[0;34m[\u001b[0m\u001b[0;34m'category_fraud_prop'\u001b[0m\u001b[0;34m]\u001b[0m \u001b[0;34m=\u001b[0m \u001b[0mdf\u001b[0m\u001b[0;34m.\u001b[0m\u001b[0mgroupby\u001b[0m\u001b[0;34m(\u001b[0m\u001b[0;34m'category'\u001b[0m\u001b[0;34m)\u001b[0m\u001b[0;34m[\u001b[0m\u001b[0;34m'is_fraud'\u001b[0m\u001b[0;34m]\u001b[0m\u001b[0;34m.\u001b[0m\u001b[0mtransform\u001b[0m\u001b[0;34m(\u001b[0m\u001b[0;34m'mean'\u001b[0m\u001b[0;34m)\u001b[0m\u001b[0;34m\u001b[0m\u001b[0;34m\u001b[0m\u001b[0m\n\u001b[1;32m      3\u001b[0m \u001b[0mdf\u001b[0m\u001b[0;34m[\u001b[0m\u001b[0;34m'state_fraud_prop'\u001b[0m\u001b[0;34m]\u001b[0m \u001b[0;34m=\u001b[0m \u001b[0mdf\u001b[0m\u001b[0;34m.\u001b[0m\u001b[0mgroupby\u001b[0m\u001b[0;34m(\u001b[0m\u001b[0;34m'state'\u001b[0m\u001b[0;34m)\u001b[0m\u001b[0;34m[\u001b[0m\u001b[0;34m'is_fraud'\u001b[0m\u001b[0;34m]\u001b[0m\u001b[0;34m.\u001b[0m\u001b[0mtransform\u001b[0m\u001b[0;34m(\u001b[0m\u001b[0;34m'mean'\u001b[0m\u001b[0;34m)\u001b[0m\u001b[0;34m\u001b[0m\u001b[0;34m\u001b[0m\u001b[0m\n",
            "\u001b[0;31mNameError\u001b[0m: name 'df' is not defined"
          ]
        }
      ],
      "source": [
        "df['merch_fraud_prop'] = df.groupby('merchant')['is_fraud'].transform('mean')\n",
        "df['category_fraud_prop'] = df.groupby('category')['is_fraud'].transform('mean')\n",
        "df['state_fraud_prop'] = df.groupby('state')['is_fraud'].transform('mean')"
      ]
    },
    {
      "cell_type": "markdown",
      "metadata": {
        "id": "tDrG5q8pjenX"
      },
      "source": [
        "## Selecão de Features e Target"
      ]
    },
    {
      "cell_type": "code",
      "execution_count": null,
      "metadata": {
        "id": "k9NsDr7CiTRv"
      },
      "outputs": [],
      "source": [
        "X = df[['amt', 'city_pop', 'age', 'distance_from_merchant', 'hour', 'day', \n",
        "            'month', 'merch_fraud_prop', 'category_fraud_prop', 'state_fraud_prop']]\n",
        "\n",
        "y = df['is_fraud']"
      ]
    },
    {
      "cell_type": "markdown",
      "metadata": {
        "id": "2AZDjdr8oZO5"
      },
      "source": [
        "# **Modelo**"
      ]
    },
    {
      "cell_type": "markdown",
      "source": [
        "Realizadas as etapas de Análise Exploratória e Pré Processamento, prosseguimos para a elaboração do modelo."
      ],
      "metadata": {
        "id": "5cXkmEw220kk"
      }
    },
    {
      "cell_type": "markdown",
      "metadata": {
        "id": "q6MBQnfLvlcC"
      },
      "source": [
        "## Métrica de Avaliação \n",
        "Se tratando de um problema de classificação de fraudes, a principal métrica de avaliação do modelo será o **Recall**. Uma vez que um algoritmo mais conservador é mais sensato, ou seja, classificar uma transação normal como fraude, é menos pior do que classificar uma transação fraudulenta como normal."
      ]
    },
    {
      "cell_type": "markdown",
      "metadata": {
        "id": "zL9Uhd0dqHf_"
      },
      "source": [
        "## Baseline\n",
        "\n",
        "Como modelo base, foi utilizado um Classificador Dummy, que faz predições aleatórias com base na estratificação da variável alvo."
      ]
    },
    {
      "cell_type": "code",
      "execution_count": null,
      "metadata": {
        "id": "X2GQd9j9qKE4"
      },
      "outputs": [],
      "source": [
        "dummy = DummyClassifier(strategy = 'stratified', random_state = 0)\n",
        "dummy.fit(X, y)\n",
        "dummy_pred = dummy.predict(X)\n",
        "dummy_recall = recall_score(y, dummy_pred)\n",
        "dummy_acc = dummy.score(X, y)\n",
        "dummy_pre = precision_score(y, dummy_pred)"
      ]
    },
    {
      "cell_type": "code",
      "source": [
        "ConfusionMatrixDisplay.from_predictions(y, dummy_pred)\n",
        "plt.show()"
      ],
      "metadata": {
        "colab": {
          "base_uri": "https://localhost:8080/",
          "height": 279
        },
        "id": "Owqe5LaB2lM1",
        "outputId": "10d572d3-304d-4368-a97c-1aee25c84715"
      },
      "execution_count": null,
      "outputs": [
        {
          "output_type": "display_data",
          "data": {
            "text/plain": [
              "<Figure size 432x288 with 2 Axes>"
            ],
            "image/png": "[encoded data removed]"
          },
          "metadata": {
            "needs_background": "light"
          }
        }
      ]
    },
    {
      "cell_type": "code",
      "execution_count": null,
      "metadata": {
        "colab": {
          "base_uri": "https://localhost:8080/"
        },
        "id": "XHYZwAgK4uqN",
        "outputId": "9645d2f6-4775-45b6-f21b-ad503ab428cc"
      },
      "outputs": [
        {
          "output_type": "stream",
          "name": "stdout",
          "text": [
            "Recall do Classificador Dummy: 0.51%\n",
            "Acurácia do Classificador Dummy: 98.95%\n",
            "Precisão do Classificador Dummy: 0.50%\n"
          ]
        }
      ],
      "source": [
        "print('Recall do Classificador Dummy:', '{:.2f}%'.format(dummy_recall*100))\n",
        "print('Acurácia do Classificador Dummy:', '{:.2f}%'.format(dummy_acc*100))"
      ]
    },
    {
      "cell_type": "markdown",
      "metadata": {
        "id": "IeTyLyqdodXf"
      },
      "source": [
        "## Conjuntos de Treino e Teste"
      ]
    },
    {
      "cell_type": "code",
      "execution_count": null,
      "metadata": {
        "id": "XbudZKD0oiYg"
      },
      "outputs": [],
      "source": [
        " X_train, X_test, y_train, y_test = train_test_split(X, y, test_size=0.3, random_state=0, stratify = y)"
      ]
    },
    {
      "cell_type": "markdown",
      "metadata": {
        "id": "HxcLA_vizkwy"
      },
      "source": [
        "## Random Forest Classifier"
      ]
    },
    {
      "cell_type": "code",
      "execution_count": null,
      "metadata": {
        "id": "PbniVBGzznoH"
      },
      "outputs": [],
      "source": [
        "rf_clf = RandomForestClassifier(random_state = 0)\n",
        "rf_clf.fit(X_train, y_train)\n",
        "rf_clf_pred = rf_clf.predict(X_test)\n",
        "rf_clf_recall = recall_score(y_test, rf_clf_pred)\n",
        "rf_clf_acc = accuracy_score(y_test, rf_clf_pred)"
      ]
    },
    {
      "cell_type": "code",
      "execution_count": null,
      "metadata": {
        "colab": {
          "base_uri": "https://localhost:8080/"
        },
        "id": "mM0FyN9fz-29",
        "outputId": "c860713f-b2fb-48b9-cfb7-4d40f12fa143"
      },
      "outputs": [
        {
          "output_type": "stream",
          "name": "stdout",
          "text": [
            "Recall da Random Forest: 69.16%\n",
            "Acurácia da Random Forest: 99.83%\n"
          ]
        }
      ],
      "source": [
        "print('Recall da Random Forest:', '{:.2f}%'.format(rf_clf_recall*100))\n",
        "print('Acurácia da Random Forest:', '{:.2f}%'.format(rf_clf_acc*100))"
      ]
    },
    {
      "cell_type": "code",
      "source": [
        "ConfusionMatrixDisplay.from_predictions(y_test, rf_clf_pred)\n",
        "plt.show()"
      ],
      "metadata": {
        "colab": {
          "base_uri": "https://localhost:8080/",
          "height": 280
        },
        "id": "jwho4cVLFY3V",
        "outputId": "9e178636-9d27-42e0-ff9f-ef02c2c03b0c"
      },
      "execution_count": null,
      "outputs": [
        {
          "output_type": "display_data",
          "data": {
            "text/plain": [
              "<Figure size 432x288 with 2 Axes>"
            ],
            "image/png": "[encoded data removed]"
          },
          "metadata": {
            "needs_background": "light"
          }
        }
      ]
    },
    {
      "cell_type": "markdown",
      "source": [
        "## *Features Importance*"
      ],
      "metadata": {
        "id": "Qj-QYKxamljC"
      }
    },
    {
      "cell_type": "markdown",
      "source": [
        "Uma das vantagens dos algoritmos baseados em árvores, é que podemos obter a importância dos atributos para a previsão do modelo, o que auxilia e muito a interpretação."
      ],
      "metadata": {
        "id": "NbD3WBfn3zxO"
      }
    },
    {
      "cell_type": "code",
      "source": [
        "importances = pd.Series(\n",
        "    data = rf_clf.feature_importances_, index = X_train.columns\n",
        ").sort_values()\n",
        "\n",
        "importances.plot(kind=\"barh\")\n",
        "plt.title(\"Features Importances\")\n",
        "plt.show()"
      ],
      "metadata": {
        "colab": {
          "base_uri": "https://localhost:8080/",
          "height": 281
        },
        "id": "hubNHxf6sQ8y",
        "outputId": "ddde2d90-5907-4f98-a2aa-d67807077aaa"
      },
      "execution_count": null,
      "outputs": [
        {
          "output_type": "display_data",
          "data": {
            "text/plain": [
              "<Figure size 432x288 with 1 Axes>"
            ],
            "image/png": "[encoded data removed]"
          },
          "metadata": {
            "needs_background": "light"
          }
        }
      ]
    },
    {
      "cell_type": "markdown",
      "source": [
        "# **Reamostragem**"
      ],
      "metadata": {
        "id": "Qt3RGztHJj3H"
      }
    },
    {
      "cell_type": "markdown",
      "source": [
        "A reamostragem tem o objetivo em alterar a composição dos dados de treinamento para um modelo de classificação desbalanceado.\n",
        "\n",
        "Essa tendência no conjunto de dados de treinamento pode influenciar muitos algoritmos de aprendizado de máquina, levando alguns a ignorar completamente a classe minoritária, sendo um problema, pois normalmente é a classe minoritária em que as previsões são mais importantes.\n",
        "\n",
        "Existem várias técnicas como *random over-sampling*, *random under-sampling* e *SMOTE*, neste estudo não vamos entrar em detalhes a respeito das particularidades de cada técnica."
      ],
      "metadata": {
        "id": "ZXB9dghL9byr"
      }
    },
    {
      "cell_type": "markdown",
      "source": [
        "## Random Over-sampling"
      ],
      "metadata": {
        "id": "Tu2Dn3LCNxNq"
      }
    },
    {
      "cell_type": "markdown",
      "source": [
        "Nesse caso vamos trabalhar com a técnica de *random over-sampling*, mas em um contexto profissional, o recomendado seria testar outras técnicas e avaliar qual retorna o melhor resultado."
      ],
      "metadata": {
        "id": "jl1a32IJ-ECa"
      }
    },
    {
      "cell_type": "code",
      "source": [
        "ros = RandomOverSampler(random_state = 0)\n",
        "X_res, y_res = ros.fit_resample(X_train, y_train)"
      ],
      "metadata": {
        "id": "0HSBb6B8LzOL"
      },
      "execution_count": null,
      "outputs": []
    },
    {
      "cell_type": "code",
      "source": [
        "rf_clf_rs = RandomForestClassifier(random_state = 0)\n",
        "rf_clf_rs.fit(X_res, y_res)\n",
        "rf_clf_rs_pred = rf_clf_rs.predict(X_test)"
      ],
      "metadata": {
        "id": "baJNzglYODAC"
      },
      "execution_count": null,
      "outputs": []
    },
    {
      "cell_type": "code",
      "source": [
        "ConfusionMatrixDisplay.from_predictions(y_test, rf_clf_rs_pred)\n",
        "plt.show()"
      ],
      "metadata": {
        "colab": {
          "base_uri": "https://localhost:8080/",
          "height": 280
        },
        "id": "eBGxOLcxME0Q",
        "outputId": "19127135-dbc6-4757-b081-bbd05a3e047f"
      },
      "execution_count": null,
      "outputs": [
        {
          "output_type": "display_data",
          "data": {
            "text/plain": [
              "<Figure size 432x288 with 2 Axes>"
            ],
            "image/png": "[encoded data removed]"
          },
          "metadata": {
            "needs_background": "light"
          }
        }
      ]
    },
    {
      "cell_type": "code",
      "source": [
        "rf_clf_rs_recall = recall_score(y_test, rf_clf_rs_pred)\n",
        "rf_clf_rs_acc = accuracy_score(y_test, rf_clf_rs_pred)\n",
        "print('Recall da Random Forest:', '{:.2f}%'.format(rf_clf_rs_recall*100))\n",
        "print('Acurácia da Random Forest:', '{:.2f}%'.format(rf_clf_rs_acc*100))"
      ],
      "metadata": {
        "colab": {
          "base_uri": "https://localhost:8080/"
        },
        "id": "Q2WvpVuIL6VY",
        "outputId": "e83dfe97-78be-4bac-bfe9-82c6b556d9f3"
      },
      "execution_count": null,
      "outputs": [
        {
          "output_type": "stream",
          "name": "stdout",
          "text": [
            "Recall da Random Forest: 75.14%\n",
            "Acurácia da Random Forest: 99.85%\n"
          ]
        }
      ]
    },
    {
      "cell_type": "markdown",
      "source": [
        "# **Resultados**"
      ],
      "metadata": {
        "id": "NRYv2pfFNsRU"
      }
    },
    {
      "cell_type": "markdown",
      "source": [
        "Como podemos ver, a reamostragem apresentou uma melhora de 6 pontos percentuais no *Recall*, chegando a *75.14%*.\n",
        "\n",
        "Neste ponto, o ideal seria executar um Grid Search para realizar uma otimização de hiperparametros, porém, devido ao conjunto de dados ser relativamente grande, isso gera um volume de processamento alto e pode levar horas, portanto fica para uma próxima oportunidade."
      ],
      "metadata": {
        "id": "1AUWRP7l-bzA"
      }
    }
  ],
  "metadata": {
    "colab": {
      "toc_visible": true,
      "provenance": [],
      "authorship_tag": "ABX9TyMBcag+9eolE607ho1Rl3Lo",
      "include_colab_link": true
    },
    "kernelspec": {
      "display_name": "Python 3",
      "name": "python3"
    },
    "language_info": {
      "name": "python"
    }
  },
  "nbformat": 4,
  "nbformat_minor": 0
}